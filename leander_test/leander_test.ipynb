{
 "cells": [
  {
   "cell_type": "markdown",
   "source": [
    "Imports"
   ],
   "metadata": {
    "collapsed": false
   }
  },
  {
   "cell_type": "code",
   "execution_count": 2,
   "metadata": {
    "collapsed": true
   },
   "outputs": [],
   "source": [
    "import cv2\n",
    "import numpy as np"
   ]
  },
  {
   "cell_type": "markdown",
   "source": [
    "Load image"
   ],
   "metadata": {
    "collapsed": false
   }
  },
  {
   "cell_type": "code",
   "execution_count": 3,
   "outputs": [],
   "source": [
    "def load_image(show = False):\n",
    "    test_file_name = 'test_binarized.jpg'\n",
    "    test_image = cv2.imread(test_file_name)\n",
    "    if show:\n",
    "        image_resized = cv2.resize(test_image, (960, 540))\n",
    "        cv2.imshow('test_image', image_resized)\n",
    "        cv2.waitKey(0)\n",
    "    return test_image\n",
    "\n",
    "test_image = load_image()"
   ],
   "metadata": {
    "collapsed": false,
    "pycharm": {
     "name": "#%%\n"
    }
   }
  },
  {
   "cell_type": "markdown",
   "source": [
    "Convert to grayscale"
   ],
   "metadata": {
    "collapsed": false
   }
  },
  {
   "cell_type": "code",
   "source": [
    "def convert_to_grayscale(image, show=False):\n",
    "    image_grayscale = cv2.cvtColor(test_image, cv2.COLOR_BGR2GRAY)\n",
    "    if show:\n",
    "        grayscale_resized = cv2.resize(image_grayscale, (960, 540))\n",
    "        cv2.imshow('test_image_grayscale', grayscale_resized)\n",
    "        cv2.waitKey(0)\n",
    "    return image_grayscale\n",
    "\n",
    "image_grayscale = convert_to_grayscale(test_image)"
   ],
   "metadata": {
    "collapsed": false,
    "pycharm": {
     "name": "#%%\n"
    }
   },
   "execution_count": 4,
   "outputs": []
  },
  {
   "cell_type": "markdown",
   "source": [
    "Threshold image"
   ],
   "metadata": {
    "collapsed": false,
    "pycharm": {
     "name": "#%% md\n"
    }
   }
  },
  {
   "cell_type": "code",
   "source": [
    "def threshold_image(image, show=False):\n",
    "    ret, image_threshold = cv2.threshold(image, 127, 255, cv2.THRESH_BINARY)\n",
    "    if show:\n",
    "        threshold_resized = cv2.resize(image_threshold, (1520, 960))\n",
    "        cv2.imshow('test_image_threshold', threshold_resized)\n",
    "        cv2.waitKey(0)\n",
    "    return image_threshold\n",
    "\n",
    "image_threshold = threshold_image(image_grayscale)"
   ],
   "metadata": {
    "collapsed": false,
    "pycharm": {
     "name": "#%%\n"
    }
   },
   "execution_count": 5,
   "outputs": []
  },
  {
   "cell_type": "code",
   "execution_count": 6,
   "outputs": [
    {
     "data": {
      "text/plain": "True"
     },
     "execution_count": 6,
     "metadata": {},
     "output_type": "execute_result"
    }
   ],
   "source": [
    "def assert_image_thresholded(image):\n",
    "    unique = np.unique(image)\n",
    "    assert 0 in unique\n",
    "    assert 255 in unique\n",
    "    return True\n",
    "\n",
    "assert_image_thresholded(image_threshold)"
   ],
   "metadata": {
    "collapsed": false,
    "pycharm": {
     "name": "#%%\n"
    }
   }
  },
  {
   "cell_type": "markdown",
   "source": [
    "Invert image, since opencv uses black background"
   ],
   "metadata": {
    "collapsed": false
   }
  },
  {
   "cell_type": "code",
   "execution_count": 7,
   "outputs": [],
   "source": [
    "def invert_image(image, show = False):\n",
    "    image_inverted = cv2.bitwise_not(image)\n",
    "    if show:\n",
    "        inverted_resized = cv2.resize(image_inverted, (960, 540))\n",
    "        cv2.imshow('test_image_invert', inverted_resized)\n",
    "        cv2.waitKey(0)\n",
    "    return image_inverted\n",
    "\n",
    "image_inverted = invert_image(image_threshold)"
   ],
   "metadata": {
    "collapsed": false,
    "pycharm": {
     "name": "#%%\n"
    }
   }
  },
  {
   "cell_type": "markdown",
   "source": [
    "Find contours"
   ],
   "metadata": {
    "collapsed": false
   }
  },
  {
   "cell_type": "code",
   "execution_count": 27,
   "outputs": [],
   "source": [
    "def find_contours(original_image):\n",
    "    image = original_image.copy()\n",
    "    contours, hierarchy = cv2.findContours(image, cv2.RETR_TREE,cv2.CHAIN_APPROX_NONE)\n",
    "    sorted_contours = sorted(contours, key=lambda ctr: cv2.boundingRect(ctr)[0])\n",
    "    image_clr = cv2.cvtColor(image, cv2.COLOR_BGR2RGB)\n",
    "    show_individual = False\n",
    "    for i, ctr in enumerate(sorted_contours):\n",
    "        # Get bounding box\n",
    "        x, y, w, h = cv2.boundingRect(ctr)\n",
    "\n",
    "        # Getting ROI\n",
    "        roi = image_clr[y:y+h, x:x+w]\n",
    "\n",
    "        cv2.rectangle(image_clr,(x,y),( x + w, y + h ),(0,255,0),2)\n",
    "        # show ROI\n",
    "        if show_individual:\n",
    "            cv2.imshow('segment no:'+str(i),roi)\n",
    "            cv2.waitKey(0)\n",
    "\n",
    "    image_resized = cv2.resize(image_clr, (1520, 960))\n",
    "    cv2.imshow('marked areas',image_resized)\n",
    "    cv2.waitKey(0)\n",
    "    return sorted_contours\n",
    "\n",
    "contours = find_contours(image_inverted)"
   ],
   "metadata": {
    "collapsed": false,
    "pycharm": {
     "name": "#%%\n"
    }
   }
  },
  {
   "cell_type": "markdown",
   "source": [
    "Draw contours"
   ],
   "metadata": {
    "collapsed": false,
    "pycharm": {
     "name": "#%% md\n"
    }
   }
  },
  {
   "cell_type": "code",
   "execution_count": 9,
   "outputs": [
    {
     "name": "stdout",
     "output_type": "stream",
     "text": [
      "Number of contours: 442\n"
     ]
    }
   ],
   "source": [
    "print('Number of contours: %d'%len(contours))"
   ],
   "metadata": {
    "collapsed": false,
    "pycharm": {
     "name": "#%%\n"
    }
   }
  },
  {
   "cell_type": "code",
   "execution_count": 30,
   "outputs": [],
   "source": [
    "def draw_contours(image, contours, show=True):\n",
    "    contoured_image = image.copy()\n",
    "    contoured_image_clr = cv2.cvtColor(contoured_image, cv2.COLOR_BGR2RGB)\n",
    "    if show:\n",
    "        contoured_resized = cv2.resize(image_inverted, (1520, 960))\n",
    "        cv2.imshow('contoured prior', contoured_resized)\n",
    "        cv2.waitKey(0)\n",
    "    cv2.drawContours(contoured_image_clr, contours, -1, (0, 255, 0), 3)\n",
    "    if show:\n",
    "        contoured_resized_clr = cv2.resize(contoured_image_clr, (1520, 960))\n",
    "        cv2.imshow('contoured', contoured_resized_clr)\n",
    "        cv2.waitKey(0)\n",
    "    return contoured_image\n",
    "\n",
    "image_contoured = draw_contours(image_inverted, contours)"
   ],
   "metadata": {
    "collapsed": false,
    "pycharm": {
     "name": "#%%\n"
    }
   }
  },
  {
   "cell_type": "code",
   "execution_count": 11,
   "outputs": [
    {
     "name": "stdout",
     "output_type": "stream",
     "text": [
      "[  0 255]\n"
     ]
    }
   ],
   "source": [
    "print(np.unique(image_contoured))"
   ],
   "metadata": {
    "collapsed": false,
    "pycharm": {
     "name": "#%%\n"
    }
   }
  },
  {
   "cell_type": "code",
   "execution_count": 26,
   "outputs": [
    {
     "data": {
      "text/plain": "-1"
     },
     "execution_count": 26,
     "metadata": {},
     "output_type": "execute_result"
    }
   ],
   "source": [
    "img = image_contoured.copy()\n",
    "img_coloured = cv2.cvtColor(img, cv2.COLOR_GRAY2BGR)\n",
    "cv2.rectangle(img_coloured, (0,0), (77,196), (255,0,0), 1)\n",
    "inverted_scaled = cv2.resize(img_coloured, (1520, 960))\n",
    "cv2.imshow('test', inverted_scaled)\n",
    "cv2.waitKey(0)"
   ],
   "metadata": {
    "collapsed": false,
    "pycharm": {
     "name": "#%%\n"
    }
   }
  },
  {
   "cell_type": "code",
   "execution_count": 23,
   "outputs": [
    {
     "name": "stdout",
     "output_type": "stream",
     "text": [
      "(2706, 3608)\n"
     ]
    }
   ],
   "source": [
    "print(img.shape)"
   ],
   "metadata": {
    "collapsed": false,
    "pycharm": {
     "name": "#%%\n"
    }
   }
  },
  {
   "cell_type": "code",
   "execution_count": 24,
   "outputs": [
    {
     "data": {
      "text/plain": "-1"
     },
     "execution_count": 24,
     "metadata": {},
     "output_type": "execute_result"
    }
   ],
   "source": [
    "character_size = (196,77)\n",
    "cv2.imshow('test', img)\n",
    "cv2.waitKey(0)"
   ],
   "metadata": {
    "collapsed": false,
    "pycharm": {
     "name": "#%%\n"
    }
   }
  },
  {
   "cell_type": "code",
   "execution_count": null,
   "outputs": [],
   "source": [],
   "metadata": {
    "collapsed": false,
    "pycharm": {
     "name": "#%%\n"
    }
   }
  }
 ],
 "metadata": {
  "kernelspec": {
   "display_name": "Python 3",
   "language": "python",
   "name": "python3"
  },
  "language_info": {
   "codemirror_mode": {
    "name": "ipython",
    "version": 2
   },
   "file_extension": ".py",
   "mimetype": "text/x-python",
   "name": "python",
   "nbconvert_exporter": "python",
   "pygments_lexer": "ipython2",
   "version": "2.7.6"
  }
 },
 "nbformat": 4,
 "nbformat_minor": 0
}